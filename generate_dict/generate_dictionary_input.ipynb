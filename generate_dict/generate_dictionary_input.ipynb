{
 "cells": [
  {
   "cell_type": "code",
   "execution_count": 2,
   "metadata": {},
   "outputs": [],
   "source": [
    "\n",
    "\n",
    "import os\n",
    "import sys\n",
    "parent_dir = os.path.abspath(os.path.join(os.getcwd(), '..'))\n",
    "sys.path.insert(0, parent_dir)\n",
    "\n",
    "import pickle\n",
    "import numpy as np\n",
    "import math\n",
    "from Camera import Camera\n",
    "from Frame import Frame\n",
    "import matplotlib.pyplot as plt\n",
    "import Utils\n",
    "%matplotlib qt\n",
    "\n",
    "\n",
    "\n",
    "from Frame import Frame\n",
    "\n",
    "path = 'G:/My Drive/Research/gaussian_splatting/gaussian_splatting_input/mov30_2024_11_12_darkan/'\n",
    "frames = list(range(1400,1450,1))\n",
    "image_name= []\n",
    "for frame in frames:\n",
    "    image_name += [f'P{frame}CAM{cam + 1}' for cam in range(4)]\n",
    "\n",
    "frames = {f'{im_name}.jpg':Frame(path,im_name,idx, camera_path = path) for idx,im_name in enumerate(image_name)}\n"
   ]
  },
  {
   "cell_type": "code",
   "execution_count": 3,
   "metadata": {},
   "outputs": [],
   "source": [
    "\n",
    "frames_dict = {}\n",
    "for frame_number in range(1400,1401):\n",
    "    cams,base_images = {},{}\n",
    "    for idx in range(4):\n",
    "        frame_name = f'P{frame_number}CAM{idx+1}.jpg'\n",
    "        frame = frames[frame_name]\n",
    "        base_images[frame.image_id] = frame.generate_base_image()\n",
    "        frame.save_croped_images()\n",
    "        cams[frame.camera_number] = frame.cams_for_gs()\n",
    "    frames_dict[frame_number] = [base_images,cams,[]]\n",
    "\n",
    "Utils.pickle_file(frames_dict,f'{frame.path}/frames_model.pkl' )\n"
   ]
  }
 ],
 "metadata": {
  "kernelspec": {
   "display_name": "base",
   "language": "python",
   "name": "python3"
  },
  "language_info": {
   "codemirror_mode": {
    "name": "ipython",
    "version": 3
   },
   "file_extension": ".py",
   "mimetype": "text/x-python",
   "name": "python",
   "nbconvert_exporter": "python",
   "pygments_lexer": "ipython3",
   "version": "3.10.9"
  }
 },
 "nbformat": 4,
 "nbformat_minor": 2
}
