{
 "cells": [
  {
   "cell_type": "code",
   "execution_count": 13,
   "metadata": {},
   "outputs": [],
   "source": [
    "import torch\n",
    "import Utils\n",
    "import Plotter\n",
    "\n",
    "\n",
    "path_to_mesh = 'D:/Documents/model_gaussian_splatting/model/mesh'\n",
    "skin_translation = torch.tensor([-0.1-1,0,1])*1/1000\n",
    "cm_translation = torch.tensor([-0.00134725,  0.00580915,  0.00811845])\n",
    "pitch = -25\n",
    "\n",
    "root,body,right_wing,left_wing,list_joints_pitch_update = Utils.initilize_skeleton_and_skin(path_to_mesh,skeleton_scale=1/1000)\n",
    "joint_list,skin,weights,bones = Utils.build_skeleton(root,body,right_wing,left_wing)\n"
   ]
  },
  {
   "cell_type": "code",
   "execution_count": 31,
   "metadata": {},
   "outputs": [],
   "source": [
    "import Plotter\n",
    "import plotly.graph_objects as go\n",
    "import plotly.io as pio\n",
    "pio.renderers.default='browser'\n",
    "\n",
    "fig = go.Figure()\n",
    "Plotter.plot_skeleton(bones,fig,{},{}, name = ['neck_head','neck_thorax','thorax_abdomen','right_wing','left_wing'])\n",
    "Plotter.plot_skin(fig,right_wing.ptcloud_skin.cpu(),'skin',skip_skin_points = 10,color = 'red',size = 3)\n",
    "Plotter.plot_skin(fig,left_wing.ptcloud_skin.cpu(),'skin',skip_skin_points = 10,color = 'blue',size = 3)\n",
    "Plotter.plot_skin(fig,body.ptcloud_skin.cpu(),'skin',skip_skin_points = 10,color = 'green',size = 3)\n",
    "fig.show()\n",
    "\n"
   ]
  },
  {
   "cell_type": "code",
   "execution_count": null,
   "metadata": {},
   "outputs": [],
   "source": [
    "\n",
    "import numpy as np\n",
    "body_angles = torch.tensor([20,-45,30],device='cuda')\n",
    "body_location = torch.tensor([1,2,0],device='cuda')/1000\n",
    "right_wing_angles = torch.tensor([60,45,5],device='cuda')\n",
    "left_wing_angles = torch.tensor([-60,45,-5],device='cuda')\n",
    "weights = weights.cuda()\n",
    "\n",
    "means3D = Utils.transform_pose(skin,weights,body_angles,\n",
    "                            list_joints_pitch_update,joint_list,bones,body_location,\n",
    "                            right_wing_angles,left_wing_angles)\n",
    "\n",
    "fig = go.Figure()\n",
    "Plotter.plot_skeleton(bones,fig,{},{}, name = ['neck_head','neck_thorax','thorax_abdomen','right_wing','left_wing'])\n",
    "Plotter.plot_skin(fig,means3D.cpu(),'skin',skip_skin_points = 10,color = 'red',size = 3)\n",
    "fig.show()"
   ]
  }
 ],
 "metadata": {
  "kernelspec": {
   "display_name": "nerfstudio_fly",
   "language": "python",
   "name": "python3"
  },
  "language_info": {
   "codemirror_mode": {
    "name": "ipython",
    "version": 3
   },
   "file_extension": ".py",
   "mimetype": "text/x-python",
   "name": "python",
   "nbconvert_exporter": "python",
   "pygments_lexer": "ipython3",
   "version": "3.8.20"
  }
 },
 "nbformat": 4,
 "nbformat_minor": 2
}
