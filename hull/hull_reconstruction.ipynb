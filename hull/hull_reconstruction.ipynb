{
 "cells": [
  {
   "cell_type": "code",
   "execution_count": 1,
   "metadata": {},
   "outputs": [],
   "source": [
    "\n",
    "import pickle\n",
    "import numpy as np\n",
    "import math\n",
    "from Camera import Camera\n",
    "from Frame import Frame\n",
    "import matplotlib.pyplot as plt\n",
    "import Utils\n",
    "%matplotlib qt\n",
    "\n",
    "\n",
    "path = 'C:/Users/Roni/Documents/gs_input/frames_model.pkl'\n",
    "image_path = 'C:/Users/Roni/Documents/fly'\n",
    "with open(path,'rb') as f:\n",
    "    frames = pickle.load(f)\n",
    "\n",
    "frames_per_cam = [Frame(image_path,frames,900,cam_num) for cam_num in range(4)]\n",
    "\n"
   ]
  },
  {
   "cell_type": "code",
   "execution_count": 2,
   "metadata": {},
   "outputs": [],
   "source": [
    "camera_pixel = np.vstack([frame.camera_center_to_pixel_ray(([frame.cm[1],frame.cm[0]])) for frame in  frames_per_cam])\n",
    "camera_center = np.vstack([frame.X0.T for frame in  frames_per_cam])\n",
    "# rot_mat_ew_to_lab = frames_per_cam[0].rotation_matrix_from_vectors(frames_per_cam[0].R[2,:], [0,0,1])\n",
    "cm_point = Utils.triangulate_least_square(camera_center,camera_pixel)\n",
    "# cm_point_lab = np.squeeze(np.dot(rot_mat_ew_to_lab,cm_point[:,np.newaxis]).T)"
   ]
  },
  {
   "cell_type": "code",
   "execution_count": 3,
   "metadata": {},
   "outputs": [
    {
     "name": "stderr",
     "output_type": "stream",
     "text": [
      "C:\\Users\\Roni\\AppData\\Local\\Temp\\ipykernel_19576\\3257062134.py:9: FutureWarning: arrays to stack must be passed as a \"sequence\" type such as list or tuple. Support for non-sequence iterables such as generators is deprecated as of NumPy 1.16 and will raise an error in the future.\n",
      "  all_indices = np.vstack(np.argwhere(np.all(pt2dv.astype(int) == repeated_group, axis=1)) for repeated_group in projected_on_image)\n"
     ]
    }
   ],
   "source": [
    "xyz = np.vstack([np.linspace(coord - 0.003,coord + 0.003,50) for coord in cm_point]).T\n",
    "x,y,z = np.meshgrid(xyz[:,0],xyz[:,1],xyz[:,2])\n",
    "ptcloud_volume = np.vstack([x.ravel(),y.ravel(),z.ravel()]).T\n",
    "ptsv = frames_per_cam[0].homogenize_coordinate(ptcloud_volume)\n",
    "pt2dv = frames_per_cam[0].project_on_image(ptsv)\n",
    "pts_for_unique = np.vstack((frames_per_cam[0].pixels,np.unique(pt2dv.astype(int),axis = 0)))\n",
    "v,cnt = np.unique(pts_for_unique,return_counts = True,axis = 0)\n",
    "projected_on_image = v[cnt > 1]\n",
    "all_indices = np.vstack(np.argwhere(np.all(pt2dv.astype(int) == repeated_group, axis=1)) for repeated_group in projected_on_image)\n",
    "fly_vxls = ptcloud_volume[all_indices,:]"
   ]
  },
  {
   "cell_type": "code",
   "execution_count": 22,
   "metadata": {},
   "outputs": [
    {
     "data": {
      "text/plain": [
       "array([[-1.23926824e-03,  2.29473224e-01,  1.54564763e-01,\n",
       "         1.00000000e+00],\n",
       "       [-1.42530388e-01,  1.34378169e-01, -8.33057894e-03,\n",
       "         1.00000000e+00],\n",
       "       [ 1.36730176e-01,  1.33893229e-01,  7.95346132e-04,\n",
       "         1.00000000e+00],\n",
       "       [-7.07052979e-03, -2.79823321e-04,  1.91126970e-01,\n",
       "         1.00000000e+00]])"
      ]
     },
     "execution_count": 22,
     "metadata": {},
     "output_type": "execute_result"
    }
   ],
   "source": [
    "pts"
   ]
  },
  {
   "cell_type": "code",
   "execution_count": 32,
   "metadata": {},
   "outputs": [
    {
     "data": {
      "text/plain": [
       "array([[129.58285028,  94.23576349]])"
      ]
     },
     "execution_count": 32,
     "metadata": {},
     "output_type": "execute_result"
    }
   ],
   "source": [
    "pt2d"
   ]
  },
  {
   "cell_type": "code",
   "execution_count": null,
   "metadata": {},
   "outputs": [
    {
     "data": {
      "text/plain": [
       "<matplotlib.collections.PathCollection at 0x1d431d484c0>"
      ]
     },
     "execution_count": 7,
     "metadata": {},
     "output_type": "execute_result"
    }
   ],
   "source": [
    "# pts = frames_per_cam[2].homogenize_coordinate(cm_point)\n",
    "pt2d = frames_per_cam[1].project_on_image(np.append(cm_point,1)[:,np.newaxis].T)[0]\n",
    "\n",
    "\n",
    "plt.imshow(frames_per_cam[1].im)\n",
    "# plt.scatter(pt2dv[:,0],pt2dv[:,1])\n",
    "plt.scatter(pt2d[1],pt2d[0])"
   ]
  },
  {
   "cell_type": "code",
   "execution_count": 89,
   "metadata": {},
   "outputs": [
    {
     "data": {
      "text/plain": [
       "array([[ 4238],\n",
       "       [ 6739],\n",
       "       [11740],\n",
       "       ...,\n",
       "       [48060],\n",
       "       [55562],\n",
       "       [63064]], dtype=int64)"
      ]
     },
     "execution_count": 89,
     "metadata": {},
     "output_type": "execute_result"
    }
   ],
   "source": [
    "np.vstack([np.argwhere(np.all(pt2dv.astype(int) == repeated_group, axis=1)) for repeated_group in projected_on_image])\n"
   ]
  },
  {
   "cell_type": "code",
   "execution_count": 16,
   "metadata": {},
   "outputs": [],
   "source": [
    "import plotly.graph_objects as go\n",
    "import plotly.io as pio\n",
    "pio.renderers.default='browser'\n",
    "\n",
    "def scatter3d(fig,data,legend, mode = 'markers',line_dict = {},marker_dict = {}):\n",
    "\n",
    "    marker_dict = marker_dict if 'markers' in mode else {}\n",
    "    \n",
    "    # Include line dict if mode includes 'lines'\n",
    "    line_params = line_dict if 'lines' in mode else {}\n",
    "    \n",
    "      \n",
    "    fig.add_trace(go.Scatter3d(\n",
    "        x=data[:, 0],\n",
    "        y=data[:, 1],\n",
    "        z=data[:, 2],\n",
    "        mode=mode,\n",
    "        marker=marker_dict,\n",
    "        line = line_params,\n",
    "        name = legend\n",
    "    ))\n",
    "    \n",
    "    # Update layout to set aspectmode to 'cube'\n",
    "    fig.update_layout(scene=dict(\n",
    "        aspectmode='data'  # Ensures x, y, z axes have the same scale\n",
    "    ))\n",
    "    return fig\n",
    "\n",
    "fig = go.Figure()\n",
    "\n",
    "scatter3d(fig,camera_center,'cam')\n",
    "scatter3d(fig,camera_pixel,'pix')\n",
    "# scatter3d(fig,ptcloud_volume,'vol')\n",
    "# scatter3d(fig,fly_vxls,'vol')\n",
    "\n",
    "fig.add_trace(go.Scatter3d(\n",
    "    x=[cm_point[ 0]],\n",
    "    y=[cm_point[ 1]],\n",
    "    z=[cm_point[ 2]],\n",
    "    mode='markers',\n",
    "    marker={},\n",
    "    line = {},\n",
    "    name = 'center'\n",
    "))\n",
    "\n",
    "\n",
    "fig.show()\n"
   ]
  },
  {
   "cell_type": "code",
   "execution_count": 95,
   "metadata": {},
   "outputs": [
    {
     "data": {
      "text/plain": [
       "array([[[-0.00043527, -0.00162267,  0.00848574]],\n",
       "\n",
       "       [[-0.00043527, -0.00150022,  0.00860819]],\n",
       "\n",
       "       [[-0.00043527, -0.00125532,  0.00873064]],\n",
       "\n",
       "       ...,\n",
       "\n",
       "       [[-0.00325159,  0.00058142,  0.00505717]],\n",
       "\n",
       "       [[-0.00325159,  0.00094876,  0.00530207]],\n",
       "\n",
       "       [[-0.00325159,  0.00131611,  0.00554696]]])"
      ]
     },
     "execution_count": 95,
     "metadata": {},
     "output_type": "execute_result"
    }
   ],
   "source": [
    "fly_vxls"
   ]
  },
  {
   "cell_type": "code",
   "execution_count": 8,
   "metadata": {},
   "outputs": [
    {
     "data": {
      "text/plain": [
       "array([[-0.00121165, -0.61142572, -0.38724614]])"
      ]
     },
     "execution_count": 8,
     "metadata": {},
     "output_type": "execute_result"
    },
    {
     "data": {
      "image/png": "[encoded data removed]",
      "text/plain": [
       "<Figure size 640x480 with 1 Axes>"
      ]
     },
     "metadata": {},
     "output_type": "display_data"
    }
   ],
   "source": [
    "\n",
    "plt.imshow(frame.im)\n",
    "plt.scatter(frame.pixels[:,1],frame.pixels[:,0])\n",
    "cm = np.mean(frame.pixels,0)\n",
    "frame.camera_center_to_pixel_ray(cm)\n",
    "\n"
   ]
  },
  {
   "cell_type": "code",
   "execution_count": 4,
   "metadata": {},
   "outputs": [
    {
     "data": {
      "text/plain": [
       "['P900CAM1.jpg.jpg',\n",
       " 'P900CAM2.jpg.jpg',\n",
       " 'P900CAM3.jpg.jpg',\n",
       " 'P900CAM4.jpg.jpg']"
      ]
     },
     "execution_count": 4,
     "metadata": {},
     "output_type": "execute_result"
    }
   ],
   "source": [
    "from os import listdir\n",
    "from os.path import isfile, join\n",
    "onlyfiles = [f for f in listdir(image_path) if isfile(join(image_path, f))]\n",
    "onlyfiles"
   ]
  },
  {
   "cell_type": "code",
   "execution_count": null,
   "metadata": {},
   "outputs": [],
   "source": [
    "\n",
    "\n",
    "def triangulate_least_square(origins,end_of_vectors):\n",
    "    # triangulate all lines to find the closest 3d point with least square\n",
    "    # we define a 3d vector ab and a point p\n",
    "    # the distance between the point and the vector: d^2 = |p-a|^2 - |(p-a).T *(b-a)/|(b-a)|^2 where (p-a).T *(b-a)/|(b-a) is the projection of ap on ab\n",
    "    # d^2 = |p-a|^2 - |(p-a).T *(b-a)/|(b-a)|| = |(p-a)*(p-a).T| - |(p-a).T *(b-a)/|(b-a)||^2 = |(p-a)*(p-a).T| - |(p-a).T *n||^2 where n = (b-a)/|(b-a)|\n",
    "    # we sum the squared distances and get \n",
    "    # sum(di^2) = sum(|(p-a)*(p-a).T| - |(p-a).T *n||^2)\n",
    "    # we want to find the minimum of the sums of distences - the point that is closest to all lines so we differentiate with respect to p and get: \n",
    "\n",
    "\n",
    "    # sum([2*(p-a) - 2*[(p-a)^T*n]]*n) = 0\n",
    "    # sum(p-ai) = sum(n*n^T)*(p-a) --> sum(n*n.T - I)*p = sum((n*n.T - I)*a) --> S*p = C (n*n.T is the outer product, not dot) for every vector we multiply it with itself to get vx^2,vxy,vxz,vy^2...\n",
    "\n",
    "\n",
    "    #** we can also calculate the distance d using cross product: we define a vector ab and a point p, we know that |ab X ap| will result the area of a parallalegram. \n",
    "    # we also know that d*|ab| is the area of a parallalegram --> d*|ab| = |ab X ap| --> d = |ab X ap|/|ab| which is the distace between the point p and the vector ab\n",
    "    # (we can differenciate the same way using an identity for the cross - https://math.stackexchange.com/questions/61719/finding-the-intersection-point-of-many-lines-in-3d-point-closest-to-all-lines )\n",
    "\n",
    "\n",
    "    n = (end_of_vectors - origins)/np.linalg.norm(end_of_vectors - origins, axis = 1)[:,np.newaxis]\n",
    "    inner = [np.outer(n_row,n_row.T) - np.eye(3) for n_row in n]\n",
    "    s = np.sum(inner,axis = 0)\n",
    "    c = np.sum([np.dot(mat,vec) for mat,vec in zip(inner,origins)],axis = 0)\n",
    "    return  np.linalg.solve(s,c)\n",
    "\n",
    "\n",
    "\n",
    "def find_2dcm_from_projection(self):\n",
    "    # load frames and cameras\n",
    "    path = self.path_to_frame\n",
    "    frames = list(range(900,910,1))\n",
    "    image_name= []\n",
    "    for frame in frames:\n",
    "        image_name += [f'P{frame}CAM{cam + 1}' for cam in range(4)]\n",
    "\n",
    "    frames = {f'{im_name}.jpg':Frame(path,im_name,idx) for idx,im_name in enumerate(image_name)}\n",
    "\n",
    "    frame_number = 900 \n",
    "    frame_names = ['P900CAM1.jpg','P900CAM2.jpg','P900CAM3.jpg','P900CAM4.jpg']\n",
    "    frame_names = [f'P{frame_number}CAM{idx}.jpg' for idx in range(1,5)]\n",
    "\n",
    "    camera_pixel = np.vstack([frames[frame].camera_center_to_pixel_ray(frames[frame].cm) for frame in  frame_names])\n",
    "    camera_center = np.vstack([frames[frame].X0.T for frame in  frame_names])\n",
    "    self.rot_mat_ew_to_lab = frames['P900CAM1.jpg'].rotation_matrix_from_vectors(frames['P900CAM1.jpg'].R[2,:], [0,0,1])\n",
    "    cm_point = triangulate_least_square(camera_center,camera_pixel)\n",
    "    self.cm_point_lab = np.squeeze(np.dot(self.rot_mat_ew_to_lab,cm_point[:,np.newaxis]).T)\n"
   ]
  },
  {
   "cell_type": "code",
   "execution_count": null,
   "metadata": {},
   "outputs": [],
   "source": [
    "def read_extrinsics_dict(data):\n",
    "    images = {}\n",
    "    for base_image in data.values():\n",
    "        images[base_image['id']] = Image(\n",
    "                    id=base_image['id'], qvec=base_image['qvec'], tvec=base_image['tvec'],\n",
    "                    camera_id=base_image['camera_id'], name=base_image['name'])\n",
    "    return images\n",
    "\n",
    "\n",
    "\n",
    "def read_intrinsics_dict(data):\n",
    "    cameras = {}\n",
    "    for camera in data.values():\n",
    "         cameras[camera['id']] = Camera(id=camera['id'], model=camera['model'],\n",
    "                                            width=camera['width'], height=camera['height'],\n",
    "                                            params=camera['params'])\n",
    "    return cameras\n",
    "\n",
    "\n",
    "   def __init__(self, colmap_id, R, T, FoVx, FoVy,Cx,Cy, image, gt_alpha_mask,\n",
    "                 image_name, uid,\n",
    "                 trans=np.array([0.0, 0.0, 0.0]), scale=1.0, data_device = \"cuda\"\n",
    "                 ):\n",
    "        super(Camera, self).__init__()\n",
    "\n",
    "        self.uid = uid\n",
    "        self.colmap_id = colmap_id\n",
    "        self.R = R\n",
    "        self.T = T\n",
    "        self.FoVx = FoVx\n",
    "        self.FoVy = FoVy\n",
    "        self.image_name = image_name\n",
    "        self.Cx = Cx\n",
    "        self.Cy = Cy"
   ]
  },
  {
   "cell_type": "code",
   "execution_count": 20,
   "metadata": {},
   "outputs": [
    {
     "data": {
      "text/plain": [
       "{'id': 0,\n",
       " 'model': 'PINHOLE',\n",
       " 'width': 160,\n",
       " 'height': 160,\n",
       " 'params': (-5308.420801138058,\n",
       "  -5336.347776116402,\n",
       "  183.25810100393073,\n",
       "  172.68182292826884)}"
      ]
     },
     "execution_count": 20,
     "metadata": {},
     "output_type": "execute_result"
    }
   ],
   "source": [
    "cam = frames[900][1]\n",
    "cam[0]"
   ]
  },
  {
   "cell_type": "code",
   "execution_count": null,
   "metadata": {},
   "outputs": [],
   "source": [
    "cameras[camera_id] = Camera(id=camera_id, model=model,\n",
    "                                            width=width, height=height,\n",
    "                                            params=params)"
   ]
  },
  {
   "cell_type": "code",
   "execution_count": 14,
   "metadata": {},
   "outputs": [],
   "source": [
    "import numpy as np\n",
    "import collections\n",
    "import struct\n",
    "import pickle\n",
    "\n",
    "CameraModel = collections.namedtuple(\n",
    "    \"CameraModel\", [\"model_id\", \"model_name\", \"num_params\"])\n",
    "Camera = collections.namedtuple(\n",
    "    \"Camera\", [\"id\", \"model\", \"width\", \"height\", \"params\"])\n",
    "BaseImage = collections.namedtuple(\n",
    "    # \"Image\", [\"id\", \"qvec\", \"tvec\", \"camera_id\", \"name\", \"xys\", \"point3D_ids\"])\n",
    "    \"Image\", [\"id\", \"qvec\", \"tvec\", \"camera_id\", \"name\"])\n",
    "\n",
    "Point3D = collections.namedtuple(\n",
    "    \"Point3D\", [\"id\", \"xyz\", \"rgb\", \"error\", \"image_ids\", \"point2D_idxs\"])\n",
    "CAMERA_MODELS = {\n",
    "    CameraModel(model_id=0, model_name=\"SIMPLE_PINHOLE\", num_params=3),\n",
    "    CameraModel(model_id=1, model_name=\"PINHOLE\", num_params=4),\n",
    "    CameraModel(model_id=2, model_name=\"SIMPLE_RADIAL\", num_params=4),\n",
    "    CameraModel(model_id=3, model_name=\"RADIAL\", num_params=5),\n",
    "    CameraModel(model_id=4, model_name=\"OPENCV\", num_params=8),\n",
    "    CameraModel(model_id=5, model_name=\"OPENCV_FISHEYE\", num_params=8),\n",
    "    CameraModel(model_id=6, model_name=\"FULL_OPENCV\", num_params=12),\n",
    "    CameraModel(model_id=7, model_name=\"FOV\", num_params=5),\n",
    "    CameraModel(model_id=8, model_name=\"SIMPLE_RADIAL_FISHEYE\", num_params=4),\n",
    "    CameraModel(model_id=9, model_name=\"RADIAL_FISHEYE\", num_params=5),\n",
    "    CameraModel(model_id=10, model_name=\"THIN_PRISM_FISHEYE\", num_params=12)\n",
    "}\n",
    "CAMERA_MODEL_IDS = dict([(camera_model.model_id, camera_model)\n",
    "                         for camera_model in CAMERA_MODELS])\n",
    "CAMERA_MODEL_NAMES = dict([(camera_model.model_name, camera_model)\n",
    "                           for camera_model in CAMERA_MODELS])\n"
   ]
  },
  {
   "cell_type": "code",
   "execution_count": 13,
   "metadata": {},
   "outputs": [
    {
     "data": {
      "text/plain": [
       "{'id': 0,\n",
       " 'qvec': array([ 0.4014182, -0.7619356,  0.4480878, -0.2398643]),\n",
       " 'tvec': array([0.00099953, 0.00096338, 0.27667279]),\n",
       " 'camera_id': 0,\n",
       " 'name': 'P900CAM1.jpg'}"
      ]
     },
     "execution_count": 13,
     "metadata": {},
     "output_type": "execute_result"
    }
   ],
   "source": [
    "frames[900][0][0]"
   ]
  }
 ],
 "metadata": {
  "kernelspec": {
   "display_name": "fly_model",
   "language": "python",
   "name": "python3"
  },
  "language_info": {
   "codemirror_mode": {
    "name": "ipython",
    "version": 3
   },
   "file_extension": ".py",
   "mimetype": "text/x-python",
   "name": "python",
   "nbconvert_exporter": "python",
   "pygments_lexer": "ipython3",
   "version": "3.10.16"
  }
 },
 "nbformat": 4,
 "nbformat_minor": 2
}
