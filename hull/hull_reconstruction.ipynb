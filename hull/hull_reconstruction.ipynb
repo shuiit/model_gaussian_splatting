{
 "cells": [
  {
   "cell_type": "code",
   "execution_count": null,
   "metadata": {},
   "outputs": [],
   "source": [
    "\n",
    "\n",
    "import os\n",
    "import sys\n",
    "parent_dir = os.path.abspath(os.path.join(os.getcwd(), '..'))\n",
    "sys.path.insert(0, parent_dir)\n",
    "\n",
    "import pickle\n",
    "import numpy as np\n",
    "import math\n",
    "from Camera import Camera\n",
    "from Frame import Frame\n",
    "import matplotlib.pyplot as plt\n",
    "import Utils\n",
    "\n",
    "%matplotlib qt\n",
    "\n",
    "\n",
    "path = 'C:/Users/Roni/Documents/gs_input/frames_model.pkl'\n",
    "path = 'G:/My Drive/Research/gaussian_splatting/gaussian_splatting_input/mov19_2022_03_03//input_data_for_gs/sparse/frames_model.pkl'\n",
    "path = 'G:/My Drive/Research/gaussian_splatting/gaussian_splatting_input/mov19_2022_03_03/input_data_for_gs/'\n",
    "path = 'G:/My Drive/Research/gaussian_splatting/gaussian_splatting_input/mov30_2024_11_12_darkan/'\n",
    "dict_save_path = 'D:/Documents/data_for_gs/fly_gray/dict/frames_hull.pkl'\n",
    "\n",
    "dict_path = f'{path}/frames_model.pkl'\n",
    "image_path = f'{path}/'\n",
    "frame = 1449\n",
    "with open(dict_path,'rb') as f:\n",
    "    frames = pickle.load(f)\n",
    "\n",
    "frames_per_cam = [Frame(image_path,frame,cam_num,frames_dict = frames) for cam_num in range(4)]\n",
    "ew_to_lab = frames_per_cam[0].rotation_matrix_from_vectors(frames_per_cam[0].R[2,:], [0,0,1])\n",
    "camera_pixel = np.vstack([frame.camera_center_to_pixel_ray(([frame.cm[0],frame.cm[1]])) for frame in  frames_per_cam])\n",
    "camera_center = np.vstack([frame.X0.T for frame in  frames_per_cam])\n",
    "cm_point = Utils.triangulate_least_square(camera_center,camera_pixel)\n"
   ]
  },
  {
   "cell_type": "code",
   "execution_count": null,
   "metadata": {},
   "outputs": [],
   "source": []
  },
  {
   "cell_type": "code",
   "execution_count": 2,
   "metadata": {},
   "outputs": [
    {
     "data": {
      "text/plain": [
       "<matplotlib.image.AxesImage at 0x19700086d10>"
      ]
     },
     "execution_count": 2,
     "metadata": {},
     "output_type": "execute_result"
    }
   ],
   "source": [
    "plt.imshow(frames_per_cam[0].im)"
   ]
  },
  {
   "cell_type": "code",
   "execution_count": 3,
   "metadata": {},
   "outputs": [],
   "source": [
    "camera_vectors = (camera_center - camera_pixel)/np.array(np.linalg.norm(camera_center - camera_pixel,axis = 1))[:,np.newaxis]\n",
    "\n",
    "xyz = [np.linspace(0 - 0.003, 0 + 0.003, 100) for coord in cm_point]\n",
    "rot_mat = np.array([])\n",
    "x, y, z = np.meshgrid(xyz[0], xyz[1], xyz[2], indexing=\"ij\")\n",
    "xyz_flat = np.vstack([x.ravel(), y.ravel(), z.ravel()]).T  # Shape (N, 3)\n",
    "\n",
    "rot_mats = [frames_per_cam[idx].rotation_matrix_from_vectors(vec, [0,0,1]) for idx,vec in enumerate(camera_vectors)]\n",
    "xyz_rotated = xyz_flat @ ew_to_lab.T  # Shape (N, 3)\n",
    "xyz_rot = [xyz_flat @ rot_mat.T for rot_mat in rot_mats]\n",
    "\n",
    "pt_cloud = np.vstack(xyz_rot + cm_point)    \n",
    "\n",
    "for cam_num in range(0,4,1):\n",
    "    pt_cloud = Utils.intersection_per_cam(frames_per_cam,cam_num,pt_cloud)\n",
    "\n",
    "def get_color(camn):\n",
    "    pts = frames_per_cam[camn].homogenize_coordinate(pt_cloud)\n",
    "    pt2dv = frames_per_cam[camn].project_on_image(pts)\n",
    "    return np.array(frames_per_cam[camn].im)[pt2dv[:,0].astype(int),pt2dv[:,1].astype(int)]\n",
    "\n",
    "color = np.vstack(3*[np.mean([get_color(camn) for camn in range(4)],axis = 0)]).T\n",
    "frames[frame][2] = [pt_cloud,color]"
   ]
  },
  {
   "cell_type": "code",
   "execution_count": 4,
   "metadata": {},
   "outputs": [],
   "source": [
    "\n",
    "with open(dict_save_path, 'wb') as f:\n",
    "    pickle.dump(frames, f)"
   ]
  },
  {
   "cell_type": "code",
   "execution_count": 3,
   "metadata": {},
   "outputs": [
    {
     "name": "stderr",
     "output_type": "stream",
     "text": [
      "d:\\Documents\\model_gaussian_splatting\\Plotters.py:70: UserWarning:\n",
      "\n",
      "No data for colormapping provided via 'c'. Parameters 'cmap' will be ignored\n",
      "\n"
     ]
    }
   ],
   "source": [
    "import Plotters\n",
    "import plotly.graph_objects as go\n",
    "\n",
    "\n",
    "Plotters.plot_projections(pt_cloud,frames_per_cam)\n",
    "\n",
    "Plotters.plot_projections(np.append(cm_point,1)[np.newaxis],frames_per_cam, homogenize= False)\n",
    "\n",
    "fig = go.Figure()\n",
    "Plotters.scatter3d(fig,camera_center,'red',10,'cam',show_colorbar = False)\n",
    "Plotters.scatter3d(fig,camera_pixel,'blue',10,'pix',show_colorbar = False)\n",
    "Plotters.scatter3d(fig,pt_cloud,'green',3,'vol',show_colorbar = False)\n",
    "fig.show()\n"
   ]
  }
 ],
 "metadata": {
  "kernelspec": {
   "display_name": "base",
   "language": "python",
   "name": "python3"
  },
  "language_info": {
   "codemirror_mode": {
    "name": "ipython",
    "version": 3
   },
   "file_extension": ".py",
   "mimetype": "text/x-python",
   "name": "python",
   "nbconvert_exporter": "python",
   "pygments_lexer": "ipython3",
   "version": "3.10.9"
  }
 },
 "nbformat": 4,
 "nbformat_minor": 2
}
